{
 "cells": [
  {
   "cell_type": "code",
   "execution_count": 2,
   "metadata": {},
   "outputs": [],
   "source": [
    "import pandas as pd\n",
    "import pyreadstat as prs\n",
    "import matplotlib.pyplot as plt\n",
    "import seaborn as sns"
   ]
  },
  {
   "cell_type": "code",
   "execution_count": 3,
   "metadata": {},
   "outputs": [],
   "source": [
    "pd.set_option('display.max_columns', None)"
   ]
  },
  {
   "cell_type": "code",
   "execution_count": 4,
   "metadata": {},
   "outputs": [],
   "source": [
    "long_df, long_meta = prs.read_sav('../data/uktus15_diary_ep_long.sav', encoding=\"latin1\")\n",
    "# wide_df, wide_meta = prs.read_sav('../data/uktus15_diary_wide.sav', encoding=\"latin1\")\n",
    "# time_vars_df, time_vars_meta = prs.read_sav('../data/uktus15_dv_time_vars.sav', encoding=\"latin1\")\n",
    "# household_df, household_meta = prs.read_sav('../data/uktus15_household.sav', encoding=\"latin1\")\n",
    "individual_df, individual_meta = prs.read_sav('../data/uktus15_individual.sav', encoding=\"latin1\")\n",
    "# wksched_df, wksched_meta = prs.read_sav('../data/uktus15_wksched.sav', encoding=\"latin1\")"
   ]
  },
  {
   "cell_type": "code",
   "execution_count": 5,
   "metadata": {},
   "outputs": [
    {
     "name": "stdout",
     "output_type": "stream",
     "text": [
      "Index(['serial', 'strata', 'psu', 'pnum', 'daynum', 'HhOut', 'IndOut',\n",
      "       'DMFlag', 'IMonth', 'IYear', 'DVAge', 'DayNum_DiaryDay', 'DPday',\n",
      "       'DiaryDate_Act', 'DiaryDay_Act', 'DiaryDateDiff', 'dmonth', 'dyear',\n",
      "       'ddayw', 'DiaryType', 'WhenDiary', 'AfterDiaryDay', 'WhereStart',\n",
      "       'WhereEnd', 'RushedD', 'Ordinary', 'KindOfDay', 'Trip', 'dia_wt_a',\n",
      "       'dia_wt_b', 'epnum', 'tid', 'eptime', 'whatdoing', 'What_Oth1',\n",
      "       'What_Oth2', 'What_Oth3', 'WhereWhen', 'Device', 'WithAlone',\n",
      "       'WithSpouse', 'WithMother', 'WithFather', 'WithChild', 'WithOther',\n",
      "       'WithOtherYK', 'WithMiss', 'WithNA', 'Enjoy', 'impuflag'],\n",
      "      dtype='object')\n"
     ]
    }
   ],
   "source": [
    "print(long_df.columns)"
   ]
  },
  {
   "cell_type": "code",
   "execution_count": 10,
   "metadata": {},
   "outputs": [],
   "source": [
    "long_cols = ['DMFlag', 'dmonth', 'ddayw', 'WhereStart', 'WhereEnd', 'RushedD', 'KindOfDay', 'dia_wt_a', 'dia_wt_b', 'Trip', 'tid', 'Device', 'WhereWhen', 'whatdoing', 'eptime']\n",
    "\n",
    "long = long_df.loc[:,long_cols]\n"
   ]
  },
  {
   "cell_type": "code",
   "execution_count": 11,
   "metadata": {},
   "outputs": [
    {
     "data": {
      "text/html": [
       "<div>\n",
       "<style scoped>\n",
       "    .dataframe tbody tr th:only-of-type {\n",
       "        vertical-align: middle;\n",
       "    }\n",
       "\n",
       "    .dataframe tbody tr th {\n",
       "        vertical-align: top;\n",
       "    }\n",
       "\n",
       "    .dataframe thead th {\n",
       "        text-align: right;\n",
       "    }\n",
       "</style>\n",
       "<table border=\"1\" class=\"dataframe\">\n",
       "  <thead>\n",
       "    <tr style=\"text-align: right;\">\n",
       "      <th></th>\n",
       "      <th>DMFlag</th>\n",
       "      <th>dmonth</th>\n",
       "      <th>ddayw</th>\n",
       "      <th>WhereStart</th>\n",
       "      <th>WhereEnd</th>\n",
       "      <th>RushedD</th>\n",
       "      <th>KindOfDay</th>\n",
       "      <th>dia_wt_a</th>\n",
       "      <th>dia_wt_b</th>\n",
       "      <th>Trip</th>\n",
       "      <th>tid</th>\n",
       "      <th>Device</th>\n",
       "      <th>WhereWhen</th>\n",
       "      <th>whatdoing</th>\n",
       "      <th>eptime</th>\n",
       "    </tr>\n",
       "  </thead>\n",
       "  <tbody>\n",
       "    <tr>\n",
       "      <th>0</th>\n",
       "      <td>2.0</td>\n",
       "      <td>12.0</td>\n",
       "      <td>1.0</td>\n",
       "      <td>1.0</td>\n",
       "      <td>1.0</td>\n",
       "      <td>2.0</td>\n",
       "      <td>3.0</td>\n",
       "      <td>2.021182</td>\n",
       "      <td>1.58118</td>\n",
       "      <td>1.0</td>\n",
       "      <td>1.0</td>\n",
       "      <td>0.0</td>\n",
       "      <td>11.0</td>\n",
       "      <td>110.0</td>\n",
       "      <td>110.0</td>\n",
       "    </tr>\n",
       "    <tr>\n",
       "      <th>1</th>\n",
       "      <td>2.0</td>\n",
       "      <td>12.0</td>\n",
       "      <td>1.0</td>\n",
       "      <td>1.0</td>\n",
       "      <td>1.0</td>\n",
       "      <td>2.0</td>\n",
       "      <td>3.0</td>\n",
       "      <td>2.021182</td>\n",
       "      <td>1.58118</td>\n",
       "      <td>1.0</td>\n",
       "      <td>12.0</td>\n",
       "      <td>0.0</td>\n",
       "      <td>11.0</td>\n",
       "      <td>8219.0</td>\n",
       "      <td>10.0</td>\n",
       "    </tr>\n",
       "    <tr>\n",
       "      <th>2</th>\n",
       "      <td>2.0</td>\n",
       "      <td>12.0</td>\n",
       "      <td>1.0</td>\n",
       "      <td>1.0</td>\n",
       "      <td>1.0</td>\n",
       "      <td>2.0</td>\n",
       "      <td>3.0</td>\n",
       "      <td>2.021182</td>\n",
       "      <td>1.58118</td>\n",
       "      <td>1.0</td>\n",
       "      <td>13.0</td>\n",
       "      <td>0.0</td>\n",
       "      <td>11.0</td>\n",
       "      <td>310.0</td>\n",
       "      <td>10.0</td>\n",
       "    </tr>\n",
       "    <tr>\n",
       "      <th>3</th>\n",
       "      <td>2.0</td>\n",
       "      <td>12.0</td>\n",
       "      <td>1.0</td>\n",
       "      <td>1.0</td>\n",
       "      <td>1.0</td>\n",
       "      <td>2.0</td>\n",
       "      <td>3.0</td>\n",
       "      <td>2.021182</td>\n",
       "      <td>1.58118</td>\n",
       "      <td>1.0</td>\n",
       "      <td>14.0</td>\n",
       "      <td>0.0</td>\n",
       "      <td>11.0</td>\n",
       "      <td>3210.0</td>\n",
       "      <td>10.0</td>\n",
       "    </tr>\n",
       "    <tr>\n",
       "      <th>4</th>\n",
       "      <td>2.0</td>\n",
       "      <td>12.0</td>\n",
       "      <td>1.0</td>\n",
       "      <td>1.0</td>\n",
       "      <td>1.0</td>\n",
       "      <td>2.0</td>\n",
       "      <td>3.0</td>\n",
       "      <td>2.021182</td>\n",
       "      <td>1.58118</td>\n",
       "      <td>1.0</td>\n",
       "      <td>15.0</td>\n",
       "      <td>1.0</td>\n",
       "      <td>11.0</td>\n",
       "      <td>3110.0</td>\n",
       "      <td>10.0</td>\n",
       "    </tr>\n",
       "  </tbody>\n",
       "</table>\n",
       "</div>"
      ],
      "text/plain": [
       "   DMFlag  dmonth  ddayw  WhereStart  WhereEnd  RushedD  KindOfDay  dia_wt_a  \\\n",
       "0     2.0    12.0    1.0         1.0       1.0      2.0        3.0  2.021182   \n",
       "1     2.0    12.0    1.0         1.0       1.0      2.0        3.0  2.021182   \n",
       "2     2.0    12.0    1.0         1.0       1.0      2.0        3.0  2.021182   \n",
       "3     2.0    12.0    1.0         1.0       1.0      2.0        3.0  2.021182   \n",
       "4     2.0    12.0    1.0         1.0       1.0      2.0        3.0  2.021182   \n",
       "\n",
       "   dia_wt_b  Trip   tid  Device  WhereWhen  whatdoing  eptime  \n",
       "0   1.58118   1.0   1.0     0.0       11.0      110.0   110.0  \n",
       "1   1.58118   1.0  12.0     0.0       11.0     8219.0    10.0  \n",
       "2   1.58118   1.0  13.0     0.0       11.0      310.0    10.0  \n",
       "3   1.58118   1.0  14.0     0.0       11.0     3210.0    10.0  \n",
       "4   1.58118   1.0  15.0     1.0       11.0     3110.0    10.0  "
      ]
     },
     "execution_count": 11,
     "metadata": {},
     "output_type": "execute_result"
    }
   ],
   "source": [
    "long.head()"
   ]
  },
  {
   "cell_type": "code",
   "execution_count": 12,
   "metadata": {},
   "outputs": [
    {
     "data": {
      "text/plain": [
       "(587632, 15)"
      ]
     },
     "execution_count": 12,
     "metadata": {},
     "output_type": "execute_result"
    }
   ],
   "source": [
    "long.shape"
   ]
  },
  {
   "cell_type": "code",
   "execution_count": 18,
   "metadata": {},
   "outputs": [],
   "source": [
    "long = long.dropna()"
   ]
  },
  {
   "cell_type": "code",
   "execution_count": 19,
   "metadata": {},
   "outputs": [
    {
     "data": {
      "text/plain": [
       "(587543, 15)"
      ]
     },
     "execution_count": 19,
     "metadata": {},
     "output_type": "execute_result"
    }
   ],
   "source": [
    "long.shape"
   ]
  },
  {
   "cell_type": "code",
   "execution_count": 22,
   "metadata": {},
   "outputs": [],
   "source": [
    "X = long.iloc[:,0:14].values\n",
    "y = long.iloc[:,-1].values"
   ]
  },
  {
   "cell_type": "code",
   "execution_count": 23,
   "metadata": {},
   "outputs": [],
   "source": [
    "from sklearn.model_selection import train_test_split\n",
    "X_train, X_test, y_train, y_test = train_test_split(X, y, test_size=0.33, random_state=42)"
   ]
  },
  {
   "cell_type": "code",
   "execution_count": 24,
   "metadata": {},
   "outputs": [
    {
     "data": {
      "text/plain": [
       "RandomForestRegressor(n_estimators=10, random_state=42)"
      ]
     },
     "execution_count": 24,
     "metadata": {},
     "output_type": "execute_result"
    }
   ],
   "source": [
    "from sklearn.ensemble import RandomForestRegressor\n",
    "regressor = RandomForestRegressor(n_estimators = 10, random_state = 42)\n",
    "regressor.fit(X_train,y_train)"
   ]
  },
  {
   "cell_type": "code",
   "execution_count": 25,
   "metadata": {},
   "outputs": [
    {
     "name": "stdout",
     "output_type": "stream",
     "text": [
      "2309.3368199862157\n",
      "48.05555971983071\n"
     ]
    }
   ],
   "source": [
    "from sklearn.metrics import mean_squared_error\n",
    "prediction = regressor.predict(X_test)\n",
    "mse = mean_squared_error(y_test, prediction)\n",
    "rmse = mse**.5\n",
    "print(mse)\n",
    "print(rmse)"
   ]
  },
  {
   "cell_type": "code",
   "execution_count": 41,
   "metadata": {},
   "outputs": [
    {
     "data": {
      "text/plain": [
       "GridSearchCV(cv=5, estimator=RandomForestRegressor(),\n",
       "             param_grid={'max_depth': [3, 4, 5, 6],\n",
       "                         'max_features': ['sqrt', 'log2'],\n",
       "                         'n_estimators': [300, 400, 500],\n",
       "                         'random_state': [18]})"
      ]
     },
     "execution_count": 41,
     "metadata": {},
     "output_type": "execute_result"
    }
   ],
   "source": [
    "## Define Grid \n",
    "from sklearn.model_selection import GridSearchCV\n",
    "grid = { \n",
    "    'n_estimators': [300,400,500],\n",
    "    'max_features': ['sqrt','log2'],\n",
    "    'max_depth' : [3,4,5,6],\n",
    "    'random_state' : [18]\n",
    "}\n",
    "## Grid Search function\n",
    "CV_rfr = GridSearchCV(estimator=RandomForestRegressor(), param_grid=grid, cv= 5)\n",
    "CV_rfr.fit(X_train, y_train)\n"
   ]
  },
  {
   "cell_type": "code",
   "execution_count": 42,
   "metadata": {},
   "outputs": [
    {
     "data": {
      "text/plain": [
       "{'max_depth': 6,\n",
       " 'max_features': 'sqrt',\n",
       " 'n_estimators': 300,\n",
       " 'random_state': 18}"
      ]
     },
     "execution_count": 42,
     "metadata": {},
     "output_type": "execute_result"
    }
   ],
   "source": [
    "CV_rfr.best_params_"
   ]
  },
  {
   "cell_type": "code",
   "execution_count": 44,
   "metadata": {},
   "outputs": [],
   "source": [
    "# Create and train model\n",
    "rf = RandomForestRegressor(n_estimators = 300, max_features = 'sqrt', max_depth = 6, random_state = 18)\n",
    "rf.fit(X_train, y_train)\n",
    "# Predict on test data\n",
    "prediction = rf.predict(X_test)\n",
    "# Compute mean squared error\n",
    "mse = mean_squared_error(y_test, prediction)\n",
    "rmse = mse**.5"
   ]
  },
  {
   "cell_type": "code",
   "execution_count": 45,
   "metadata": {},
   "outputs": [
    {
     "name": "stdout",
     "output_type": "stream",
     "text": [
      "2504.4824442201516\n",
      "50.0448043678877\n"
     ]
    }
   ],
   "source": [
    "print(mse)\n",
    "print(rmse)"
   ]
  },
  {
   "cell_type": "code",
   "execution_count": 46,
   "metadata": {},
   "outputs": [],
   "source": [
    "y1000_idx = np.random.choice(range(X_test.shape[0]), size = 50)\n",
    "y1000 = y_test[y1000_idx]\n",
    "p1000 = prediction[y1000_idx]"
   ]
  },
  {
   "cell_type": "code",
   "execution_count": 47,
   "metadata": {},
   "outputs": [
    {
     "data": {
      "text/plain": [
       "<matplotlib.legend.Legend at 0x230816c8f70>"
      ]
     },
     "execution_count": 47,
     "metadata": {},
     "output_type": "execute_result"
    },
    {
     "data": {
      "image/png": "[encoded data removed]",
      "text/plain": [
       "<Figure size 1080x576 with 1 Axes>"
      ]
     },
     "metadata": {},
     "output_type": "display_data"
    }
   ],
   "source": [
    "sns.set(rc={\"figure.figsize\":(15, 8)}) #width=3, #height=4\n",
    "sns.lineplot(x = range(50), y = y1000, color='r')\n",
    "sns.lineplot(x = range(50), y = p1000, color='g')\n",
    "plt.legend(labels=['y','p'], facecolor='white')"
   ]
  },
  {
   "cell_type": "code",
   "execution_count": 48,
   "metadata": {},
   "outputs": [],
   "source": [
    "from sklearn.metrics import r2_score"
   ]
  },
  {
   "cell_type": "code",
   "execution_count": 49,
   "metadata": {},
   "outputs": [
    {
     "data": {
      "text/plain": [
       "0.3699835969747024"
      ]
     },
     "execution_count": 49,
     "metadata": {},
     "output_type": "execute_result"
    }
   ],
   "source": [
    "r2_score(y_test, prediction)\n"
   ]
  },
  {
   "cell_type": "code",
   "execution_count": 51,
   "metadata": {},
   "outputs": [],
   "source": [
    "from keras.callbacks import ModelCheckpoint\n",
    "from keras.models import Sequential\n",
    "from keras.layers import Dense, Activation, Flatten"
   ]
  },
  {
   "cell_type": "code",
   "execution_count": 52,
   "metadata": {},
   "outputs": [
    {
     "name": "stdout",
     "output_type": "stream",
     "text": [
      "Model: \"sequential\"\n",
      "_________________________________________________________________\n",
      " Layer (type)                Output Shape              Param #   \n",
      "=================================================================\n",
      " dense (Dense)               (None, 128)               1920      \n",
      "                                                                 \n",
      " dense_1 (Dense)             (None, 256)               33024     \n",
      "                                                                 \n",
      " dense_2 (Dense)             (None, 256)               65792     \n",
      "                                                                 \n",
      " dense_3 (Dense)             (None, 256)               65792     \n",
      "                                                                 \n",
      " dense_4 (Dense)             (None, 1)                 257       \n",
      "                                                                 \n",
      "=================================================================\n",
      "Total params: 166,785\n",
      "Trainable params: 166,785\n",
      "Non-trainable params: 0\n",
      "_________________________________________________________________\n"
     ]
    }
   ],
   "source": [
    "NN_model = Sequential()\n",
    "\n",
    "# The Input Layer :\n",
    "NN_model.add(Dense(128, kernel_initializer='normal',input_dim = X_train.shape[1], activation='relu'))\n",
    "\n",
    "# The Hidden Layers :\n",
    "NN_model.add(Dense(256, kernel_initializer='normal',activation='relu'))\n",
    "NN_model.add(Dense(256, kernel_initializer='normal',activation='relu'))\n",
    "NN_model.add(Dense(256, kernel_initializer='normal',activation='relu'))\n",
    "\n",
    "# The Output Layer :\n",
    "NN_model.add(Dense(1, kernel_initializer='normal',activation='linear'))\n",
    "\n",
    "# Compile the network :\n",
    "NN_model.compile(loss='mean_absolute_error', optimizer='adam', metrics=['mean_absolute_error'])\n",
    "NN_model.summary()"
   ]
  },
  {
   "cell_type": "code",
   "execution_count": 53,
   "metadata": {},
   "outputs": [],
   "source": [
    "checkpoint_name = 'Weights-{epoch:03d}--{val_loss:.5f}.hdf5' \n",
    "checkpoint = ModelCheckpoint(filepath = \"../models/\" + checkpoint_name, monitor='val_loss', verbose = 1, save_best_only = True, mode ='auto')\n",
    "callbacks_list = [checkpoint]"
   ]
  },
  {
   "cell_type": "code",
   "execution_count": 54,
   "metadata": {},
   "outputs": [
    {
     "name": "stdout",
     "output_type": "stream",
     "text": [
      "Epoch 1/500\n",
      "9838/9842 [============================>.] - ETA: 0s - loss: 26.8992 - mean_absolute_error: 26.8992\n",
      "Epoch 00001: val_loss improved from inf to 26.43560, saving model to ../models\\Weights-001--26.43560.hdf5\n",
      "9842/9842 [==============================] - 112s 11ms/step - loss: 26.8976 - mean_absolute_error: 26.8976 - val_loss: 26.4356 - val_mean_absolute_error: 26.4356\n",
      "Epoch 2/500\n",
      "9841/9842 [============================>.] - ETA: 0s - loss: 26.1262 - mean_absolute_error: 26.1262\n",
      "Epoch 00002: val_loss improved from 26.43560 to 26.07349, saving model to ../models\\Weights-002--26.07349.hdf5\n",
      "9842/9842 [==============================] - 104s 11ms/step - loss: 26.1263 - mean_absolute_error: 26.1263 - val_loss: 26.0735 - val_mean_absolute_error: 26.0735\n",
      "Epoch 3/500\n",
      "9840/9842 [============================>.] - ETA: 0s - loss: 25.8503 - mean_absolute_error: 25.8503\n",
      "Epoch 00003: val_loss improved from 26.07349 to 25.99549, saving model to ../models\\Weights-003--25.99549.hdf5\n",
      "9842/9842 [==============================] - 105s 11ms/step - loss: 25.8500 - mean_absolute_error: 25.8500 - val_loss: 25.9955 - val_mean_absolute_error: 25.9955\n",
      "Epoch 4/500\n",
      "9838/9842 [============================>.] - ETA: 0s - loss: 25.5710 - mean_absolute_error: 25.5710- ETA: 1s - loss: 25.5697 - mea\n",
      "Epoch 00004: val_loss improved from 25.99549 to 25.94401, saving model to ../models\\Weights-004--25.94401.hdf5\n",
      "9842/9842 [==============================] - 106s 11ms/step - loss: 25.5731 - mean_absolute_error: 25.5731 - val_loss: 25.9440 - val_mean_absolute_error: 25.9440\n",
      "Epoch 5/500\n",
      "9842/9842 [==============================] - ETA: 0s - loss: 25.4287 - mean_absolute_error: 25.4287\n",
      "Epoch 00005: val_loss improved from 25.94401 to 25.64236, saving model to ../models\\Weights-005--25.64236.hdf5\n",
      "9842/9842 [==============================] - 107s 11ms/step - loss: 25.4287 - mean_absolute_error: 25.4287 - val_loss: 25.6424 - val_mean_absolute_error: 25.6424\n",
      "Epoch 6/500\n",
      "9837/9842 [============================>.] - ETA: 0s - loss: 25.4400 - mean_absolute_error: 25.4400\n",
      "Epoch 00006: val_loss did not improve from 25.64236\n",
      "9842/9842 [==============================] - 106s 11ms/step - loss: 25.4373 - mean_absolute_error: 25.4373 - val_loss: 25.8022 - val_mean_absolute_error: 25.8022\n",
      "Epoch 7/500\n",
      "9837/9842 [============================>.] - ETA: 0s - loss: 25.4401 - mean_absolute_error: 25.4401\n",
      "Epoch 00007: val_loss did not improve from 25.64236\n",
      "9842/9842 [==============================] - 106s 11ms/step - loss: 25.4390 - mean_absolute_error: 25.4390 - val_loss: 25.9273 - val_mean_absolute_error: 25.9273\n",
      "Epoch 8/500\n",
      "9840/9842 [============================>.] - ETA: 0s - loss: 25.5433 - mean_absolute_error: 25.5433\n",
      "Epoch 00008: val_loss did not improve from 25.64236\n",
      "9842/9842 [==============================] - 105s 11ms/step - loss: 25.5421 - mean_absolute_error: 25.5421 - val_loss: 25.9721 - val_mean_absolute_error: 25.9721\n",
      "Epoch 9/500\n",
      "9842/9842 [==============================] - ETA: 0s - loss: 25.5897 - mean_absolute_error: 25.5897\n",
      "Epoch 00009: val_loss did not improve from 25.64236\n",
      "9842/9842 [==============================] - 106s 11ms/step - loss: 25.5897 - mean_absolute_error: 25.5897 - val_loss: 26.0352 - val_mean_absolute_error: 26.0352\n",
      "Epoch 10/500\n",
      "9839/9842 [============================>.] - ETA: 0s - loss: 25.4436 - mean_absolute_error: 25.4436\n",
      "Epoch 00010: val_loss improved from 25.64236 to 25.63095, saving model to ../models\\Weights-010--25.63095.hdf5\n",
      "9842/9842 [==============================] - 106s 11ms/step - loss: 25.4430 - mean_absolute_error: 25.4430 - val_loss: 25.6310 - val_mean_absolute_error: 25.6310\n",
      "Epoch 11/500\n",
      "9838/9842 [============================>.] - ETA: 0s - loss: 25.3329 - mean_absolute_error: 25.3329\n",
      "Epoch 00011: val_loss improved from 25.63095 to 25.45142, saving model to ../models\\Weights-011--25.45142.hdf5\n",
      "9842/9842 [==============================] - 105s 11ms/step - loss: 25.3351 - mean_absolute_error: 25.3351 - val_loss: 25.4514 - val_mean_absolute_error: 25.4514\n",
      "Epoch 12/500\n",
      "9842/9842 [==============================] - ETA: 0s - loss: 25.2892 - mean_absolute_error: 25.2892\n",
      "Epoch 00012: val_loss improved from 25.45142 to 25.39582, saving model to ../models\\Weights-012--25.39582.hdf5\n",
      "9842/9842 [==============================] - 105s 11ms/step - loss: 25.2892 - mean_absolute_error: 25.2892 - val_loss: 25.3958 - val_mean_absolute_error: 25.3958\n",
      "Epoch 13/500\n",
      "9837/9842 [============================>.] - ETA: 0s - loss: 25.3420 - mean_absolute_error: 25.3420\n",
      "Epoch 00013: val_loss did not improve from 25.39582\n",
      "9842/9842 [==============================] - 105s 11ms/step - loss: 25.3441 - mean_absolute_error: 25.3441 - val_loss: 25.4985 - val_mean_absolute_error: 25.4985\n",
      "Epoch 14/500\n",
      "9842/9842 [==============================] - ETA: 0s - loss: 25.2946 - mean_absolute_error: 25.2946\n",
      "Epoch 00014: val_loss did not improve from 25.39582\n",
      "9842/9842 [==============================] - 105s 11ms/step - loss: 25.2946 - mean_absolute_error: 25.2946 - val_loss: 25.6074 - val_mean_absolute_error: 25.6074\n",
      "Epoch 15/500\n",
      "9842/9842 [==============================] - ETA: 0s - loss: 25.2763 - mean_absolute_error: 25.2763\n",
      "Epoch 00015: val_loss did not improve from 25.39582\n",
      "9842/9842 [==============================] - 104s 11ms/step - loss: 25.2763 - mean_absolute_error: 25.2763 - val_loss: 25.8078 - val_mean_absolute_error: 25.8078\n",
      "Epoch 16/500\n",
      "9838/9842 [============================>.] - ETA: 0s - loss: 25.3154 - mean_absolute_error: 25.3154\n",
      "Epoch 00016: val_loss did not improve from 25.39582\n",
      "9842/9842 [==============================] - 102s 10ms/step - loss: 25.3152 - mean_absolute_error: 25.3152 - val_loss: 26.5611 - val_mean_absolute_error: 26.5611\n",
      "Epoch 17/500\n",
      "9839/9842 [============================>.] - ETA: 0s - loss: 25.4298 - mean_absolute_error: 25.4298\n",
      "Epoch 00017: val_loss did not improve from 25.39582\n",
      "9842/9842 [==============================] - 101s 10ms/step - loss: 25.4281 - mean_absolute_error: 25.4281 - val_loss: 25.9061 - val_mean_absolute_error: 25.9061\n",
      "Epoch 18/500\n",
      "9841/9842 [============================>.] - ETA: 0s - loss: 25.3493 - mean_absolute_error: 25.3493\n",
      "Epoch 00018: val_loss did not improve from 25.39582\n",
      "9842/9842 [==============================] - 102s 10ms/step - loss: 25.3493 - mean_absolute_error: 25.3493 - val_loss: 25.5316 - val_mean_absolute_error: 25.5316\n",
      "Epoch 19/500\n",
      "9841/9842 [============================>.] - ETA: 0s - loss: 25.2786 - mean_absolute_error: 25.2786\n",
      "Epoch 00019: val_loss did not improve from 25.39582\n",
      "9842/9842 [==============================] - 102s 10ms/step - loss: 25.2781 - mean_absolute_error: 25.2781 - val_loss: 25.7207 - val_mean_absolute_error: 25.7207\n",
      "Epoch 20/500\n",
      "9838/9842 [============================>.] - ETA: 0s - loss: 25.2029 - mean_absolute_error: 25.2029\n",
      "Epoch 00020: val_loss did not improve from 25.39582\n",
      "9842/9842 [==============================] - 101s 10ms/step - loss: 25.2028 - mean_absolute_error: 25.2028 - val_loss: 25.4634 - val_mean_absolute_error: 25.4634\n",
      "Epoch 21/500\n",
      "9838/9842 [============================>.] - ETA: 0s - loss: 25.1706 - mean_absolute_error: 25.1706\n",
      "Epoch 00021: val_loss did not improve from 25.39582\n",
      "9842/9842 [==============================] - 97s 10ms/step - loss: 25.1733 - mean_absolute_error: 25.1733 - val_loss: 25.9170 - val_mean_absolute_error: 25.9170\n",
      "Epoch 22/500\n",
      "9838/9842 [============================>.] - ETA: 0s - loss: 25.1773 - mean_absolute_error: 25.1773\n",
      "Epoch 00022: val_loss improved from 25.39582 to 25.26941, saving model to ../models\\Weights-022--25.26941.hdf5\n",
      "9842/9842 [==============================] - 98s 10ms/step - loss: 25.1767 - mean_absolute_error: 25.1767 - val_loss: 25.2694 - val_mean_absolute_error: 25.2694\n",
      "Epoch 23/500\n",
      "9837/9842 [============================>.] - ETA: 0s - loss: 25.0848 - mean_absolute_error: 25.0848\n",
      "Epoch 00023: val_loss did not improve from 25.26941\n",
      "9842/9842 [==============================] - 105s 11ms/step - loss: 25.0801 - mean_absolute_error: 25.0801 - val_loss: 25.3478 - val_mean_absolute_error: 25.3478\n",
      "Epoch 24/500\n",
      "9839/9842 [============================>.] - ETA: 0s - loss: 25.1119 - mean_absolute_error: 25.1119\n",
      "Epoch 00024: val_loss did not improve from 25.26941\n",
      "9842/9842 [==============================] - 107s 11ms/step - loss: 25.1112 - mean_absolute_error: 25.1112 - val_loss: 25.3480 - val_mean_absolute_error: 25.3480\n",
      "Epoch 25/500\n",
      "9837/9842 [============================>.] - ETA: 0s - loss: 25.0829 - mean_absolute_error: 25.0829\n",
      "Epoch 00025: val_loss did not improve from 25.26941\n",
      "9842/9842 [==============================] - 98s 10ms/step - loss: 25.0809 - mean_absolute_error: 25.0809 - val_loss: 25.4752 - val_mean_absolute_error: 25.4752\n",
      "Epoch 26/500\n",
      "9837/9842 [============================>.] - ETA: 0s - loss: 25.0644 - mean_absolute_error: 25.0644\n",
      "Epoch 00026: val_loss improved from 25.26941 to 25.26630, saving model to ../models\\Weights-026--25.26630.hdf5\n",
      "9842/9842 [==============================] - 54s 5ms/step - loss: 25.0635 - mean_absolute_error: 25.0635 - val_loss: 25.2663 - val_mean_absolute_error: 25.2663\n",
      "Epoch 27/500\n",
      "9840/9842 [============================>.] - ETA: 0s - loss: 25.0752 - mean_absolute_error: 25.0752\n",
      "Epoch 00027: val_loss did not improve from 25.26630\n",
      "9842/9842 [==============================] - 52s 5ms/step - loss: 25.0754 - mean_absolute_error: 25.0754 - val_loss: 25.4639 - val_mean_absolute_error: 25.4639\n",
      "Epoch 28/500\n",
      "9842/9842 [==============================] - ETA: 0s - loss: 25.0071 - mean_absolute_error: 25.0071\n",
      "Epoch 00028: val_loss did not improve from 25.26630\n",
      "9842/9842 [==============================] - 52s 5ms/step - loss: 25.0071 - mean_absolute_error: 25.0071 - val_loss: 25.3247 - val_mean_absolute_error: 25.3247\n",
      "Epoch 29/500\n",
      "9839/9842 [============================>.] - ETA: 0s - loss: 25.0215 - mean_absolute_error: 25.0215\n",
      "Epoch 00029: val_loss did not improve from 25.26630\n",
      "9842/9842 [==============================] - 53s 5ms/step - loss: 25.0213 - mean_absolute_error: 25.0213 - val_loss: 25.3163 - val_mean_absolute_error: 25.3163\n",
      "Epoch 30/500\n",
      "9833/9842 [============================>.] - ETA: 0s - loss: 24.9598 - mean_absolute_error: 24.9598\n",
      "Epoch 00030: val_loss improved from 25.26630 to 25.24758, saving model to ../models\\Weights-030--25.24758.hdf5\n",
      "9842/9842 [==============================] - 52s 5ms/step - loss: 24.9604 - mean_absolute_error: 24.9604 - val_loss: 25.2476 - val_mean_absolute_error: 25.2476\n",
      "Epoch 31/500\n",
      "9842/9842 [==============================] - ETA: 0s - loss: 24.9356 - mean_absolute_error: 24.9356\n",
      "Epoch 00031: val_loss improved from 25.24758 to 24.95670, saving model to ../models\\Weights-031--24.95670.hdf5\n",
      "9842/9842 [==============================] - 53s 5ms/step - loss: 24.9356 - mean_absolute_error: 24.9356 - val_loss: 24.9567 - val_mean_absolute_error: 24.9567\n",
      "Epoch 32/500\n",
      "9835/9842 [============================>.] - ETA: 0s - loss: 24.9835 - mean_absolute_error: 24.9835\n",
      "Epoch 00032: val_loss did not improve from 24.95670\n",
      "9842/9842 [==============================] - 52s 5ms/step - loss: 24.9841 - mean_absolute_error: 24.9841 - val_loss: 25.7393 - val_mean_absolute_error: 25.7393\n",
      "Epoch 33/500\n",
      "9833/9842 [============================>.] - ETA: 0s - loss: 24.8872 - mean_absolute_error: 24.8872\n",
      "Epoch 00033: val_loss did not improve from 24.95670\n",
      "9842/9842 [==============================] - 52s 5ms/step - loss: 24.8896 - mean_absolute_error: 24.8896 - val_loss: 25.0812 - val_mean_absolute_error: 25.0812\n",
      "Epoch 34/500\n",
      "9841/9842 [============================>.] - ETA: 0s - loss: 25.7105 - mean_absolute_error: 25.7105\n",
      "Epoch 00034: val_loss did not improve from 24.95670\n",
      "9842/9842 [==============================] - 52s 5ms/step - loss: 25.7105 - mean_absolute_error: 25.7105 - val_loss: 27.1729 - val_mean_absolute_error: 27.1729\n",
      "Epoch 35/500\n",
      "9841/9842 [============================>.] - ETA: 0s - loss: 25.1614 - mean_absolute_error: 25.1614\n",
      "Epoch 00035: val_loss did not improve from 24.95670\n",
      "9842/9842 [==============================] - 53s 5ms/step - loss: 25.1629 - mean_absolute_error: 25.1629 - val_loss: 25.4413 - val_mean_absolute_error: 25.4413\n",
      "Epoch 36/500\n",
      "9838/9842 [============================>.] - ETA: 0s - loss: 25.1071 - mean_absolute_error: 25.1071\n",
      "Epoch 00036: val_loss did not improve from 24.95670\n",
      "9842/9842 [==============================] - 52s 5ms/step - loss: 25.1059 - mean_absolute_error: 25.1059 - val_loss: 25.2417 - val_mean_absolute_error: 25.2417\n",
      "Epoch 37/500\n",
      "9837/9842 [============================>.] - ETA: 0s - loss: 25.0361 - mean_absolute_error: 25.0361\n",
      "Epoch 00037: val_loss did not improve from 24.95670\n",
      "9842/9842 [==============================] - 52s 5ms/step - loss: 25.0360 - mean_absolute_error: 25.0360 - val_loss: 25.1249 - val_mean_absolute_error: 25.1249\n",
      "Epoch 38/500\n",
      "9832/9842 [============================>.] - ETA: 0s - loss: 24.9896 - mean_absolute_error: 24.9896\n",
      "Epoch 00038: val_loss did not improve from 24.95670\n",
      "9842/9842 [==============================] - 52s 5ms/step - loss: 24.9866 - mean_absolute_error: 24.9866 - val_loss: 25.3444 - val_mean_absolute_error: 25.3444\n",
      "Epoch 39/500\n",
      "9836/9842 [============================>.] - ETA: 0s - loss: 24.9382 - mean_absolute_error: 24.9382\n",
      "Epoch 00039: val_loss did not improve from 24.95670\n",
      "9842/9842 [==============================] - 52s 5ms/step - loss: 24.9388 - mean_absolute_error: 24.9388 - val_loss: 25.2504 - val_mean_absolute_error: 25.2504\n",
      "Epoch 40/500\n",
      "9832/9842 [============================>.] - ETA: 0s - loss: 24.9039 - mean_absolute_error: 24.9039\n",
      "Epoch 00040: val_loss did not improve from 24.95670\n",
      "9842/9842 [==============================] - 52s 5ms/step - loss: 24.9036 - mean_absolute_error: 24.9036 - val_loss: 25.1575 - val_mean_absolute_error: 25.1575\n",
      "Epoch 41/500\n",
      "9832/9842 [============================>.] - ETA: 0s - loss: 24.9211 - mean_absolute_error: 24.9211\n",
      "Epoch 00041: val_loss did not improve from 24.95670\n",
      "9842/9842 [==============================] - 53s 5ms/step - loss: 24.9188 - mean_absolute_error: 24.9188 - val_loss: 25.3440 - val_mean_absolute_error: 25.3440\n",
      "Epoch 42/500\n",
      "9836/9842 [============================>.] - ETA: 0s - loss: 24.8839 - mean_absolute_error: 24.8839\n",
      "Epoch 00042: val_loss did not improve from 24.95670\n",
      "9842/9842 [==============================] - 52s 5ms/step - loss: 24.8859 - mean_absolute_error: 24.8859 - val_loss: 25.5176 - val_mean_absolute_error: 25.5176\n",
      "Epoch 43/500\n",
      "9837/9842 [============================>.] - ETA: 0s - loss: 25.0354 - mean_absolute_error: 25.0354\n",
      "Epoch 00043: val_loss did not improve from 24.95670\n",
      "9842/9842 [==============================] - 52s 5ms/step - loss: 25.0344 - mean_absolute_error: 25.0344 - val_loss: 25.2465 - val_mean_absolute_error: 25.2465\n",
      "Epoch 44/500\n",
      "9840/9842 [============================>.] - ETA: 0s - loss: 24.9610 - mean_absolute_error: 24.9610\n",
      "Epoch 00044: val_loss did not improve from 24.95670\n",
      "9842/9842 [==============================] - 53s 5ms/step - loss: 24.9599 - mean_absolute_error: 24.9599 - val_loss: 25.0982 - val_mean_absolute_error: 25.0982\n",
      "Epoch 45/500\n",
      "9835/9842 [============================>.] - ETA: 0s - loss: 24.8992 - mean_absolute_error: 24.8992\n",
      "Epoch 00045: val_loss did not improve from 24.95670\n",
      "9842/9842 [==============================] - 53s 5ms/step - loss: 24.8988 - mean_absolute_error: 24.8988 - val_loss: 25.2388 - val_mean_absolute_error: 25.2388\n",
      "Epoch 46/500\n",
      "9840/9842 [============================>.] - ETA: 0s - loss: 24.8837 - mean_absolute_error: 24.8837\n",
      "Epoch 00046: val_loss did not improve from 24.95670\n",
      "9842/9842 [==============================] - 53s 5ms/step - loss: 24.8837 - mean_absolute_error: 24.8837 - val_loss: 25.1563 - val_mean_absolute_error: 25.1563\n",
      "Epoch 47/500\n",
      "9842/9842 [==============================] - ETA: 0s - loss: 25.0246 - mean_absolute_error: 25.0246\n",
      "Epoch 00047: val_loss did not improve from 24.95670\n",
      "9842/9842 [==============================] - 53s 5ms/step - loss: 25.0246 - mean_absolute_error: 25.0246 - val_loss: 25.1913 - val_mean_absolute_error: 25.1913\n",
      "Epoch 48/500\n",
      "9840/9842 [============================>.] - ETA: 0s - loss: 24.9096 - mean_absolute_error: 24.9096\n",
      "Epoch 00048: val_loss did not improve from 24.95670\n",
      "9842/9842 [==============================] - 53s 5ms/step - loss: 24.9092 - mean_absolute_error: 24.9092 - val_loss: 25.0796 - val_mean_absolute_error: 25.0796\n",
      "Epoch 49/500\n",
      "9839/9842 [============================>.] - ETA: 0s - loss: 24.8630 - mean_absolute_error: 24.8630\n",
      "Epoch 00049: val_loss did not improve from 24.95670\n",
      "9842/9842 [==============================] - 53s 5ms/step - loss: 24.8623 - mean_absolute_error: 24.8623 - val_loss: 24.9934 - val_mean_absolute_error: 24.9934\n",
      "Epoch 50/500\n",
      "9835/9842 [============================>.] - ETA: 0s - loss: 24.8755 - mean_absolute_error: 24.8755\n",
      "Epoch 00050: val_loss did not improve from 24.95670\n",
      "9842/9842 [==============================] - 53s 5ms/step - loss: 24.8755 - mean_absolute_error: 24.8755 - val_loss: 25.1052 - val_mean_absolute_error: 25.1052\n",
      "Epoch 51/500\n",
      "9836/9842 [============================>.] - ETA: 0s - loss: 24.8789 - mean_absolute_error: 24.8789\n",
      "Epoch 00051: val_loss did not improve from 24.95670\n",
      "9842/9842 [==============================] - 53s 5ms/step - loss: 24.8781 - mean_absolute_error: 24.8781 - val_loss: 25.2999 - val_mean_absolute_error: 25.2999\n",
      "Epoch 52/500\n",
      "9842/9842 [==============================] - ETA: 0s - loss: 24.9395 - mean_absolute_error: 24.9395\n",
      "Epoch 00052: val_loss did not improve from 24.95670\n",
      "9842/9842 [==============================] - 53s 5ms/step - loss: 24.9395 - mean_absolute_error: 24.9395 - val_loss: 25.2803 - val_mean_absolute_error: 25.2803\n",
      "Epoch 53/500\n",
      "9842/9842 [==============================] - ETA: 0s - loss: 24.9943 - mean_absolute_error: 24.9943\n",
      "Epoch 00053: val_loss did not improve from 24.95670\n",
      "9842/9842 [==============================] - 53s 5ms/step - loss: 24.9943 - mean_absolute_error: 24.9943 - val_loss: 25.1877 - val_mean_absolute_error: 25.1877\n",
      "Epoch 54/500\n",
      "9842/9842 [==============================] - ETA: 0s - loss: 24.9272 - mean_absolute_error: 24.9272\n",
      "Epoch 00054: val_loss did not improve from 24.95670\n",
      "9842/9842 [==============================] - 53s 5ms/step - loss: 24.9272 - mean_absolute_error: 24.9272 - val_loss: 25.3303 - val_mean_absolute_error: 25.3303\n",
      "Epoch 55/500\n",
      "9834/9842 [============================>.] - ETA: 0s - loss: 24.9557 - mean_absolute_error: 24.9557\n",
      "Epoch 00055: val_loss did not improve from 24.95670\n",
      "9842/9842 [==============================] - 53s 5ms/step - loss: 24.9558 - mean_absolute_error: 24.9558 - val_loss: 25.0756 - val_mean_absolute_error: 25.0756\n",
      "Epoch 56/500\n",
      "9836/9842 [============================>.] - ETA: 0s - loss: 25.1012 - mean_absolute_error: 25.1012\n",
      "Epoch 00056: val_loss did not improve from 24.95670\n",
      "9842/9842 [==============================] - 53s 5ms/step - loss: 25.1065 - mean_absolute_error: 25.1065 - val_loss: 25.2650 - val_mean_absolute_error: 25.2650\n",
      "Epoch 57/500\n",
      "9837/9842 [============================>.] - ETA: 0s - loss: 24.9554 - mean_absolute_error: 24.9554\n",
      "Epoch 00057: val_loss did not improve from 24.95670\n",
      "9842/9842 [==============================] - 53s 5ms/step - loss: 24.9540 - mean_absolute_error: 24.9540 - val_loss: 25.1214 - val_mean_absolute_error: 25.1214\n",
      "Epoch 58/500\n",
      "9841/9842 [============================>.] - ETA: 0s - loss: 24.9035 - mean_absolute_error: 24.9035\n",
      "Epoch 00058: val_loss did not improve from 24.95670\n",
      "9842/9842 [==============================] - 53s 5ms/step - loss: 24.9051 - mean_absolute_error: 24.9051 - val_loss: 25.3561 - val_mean_absolute_error: 25.3561\n",
      "Epoch 59/500\n",
      "9836/9842 [============================>.] - ETA: 0s - loss: 24.8992 - mean_absolute_error: 24.8992\n",
      "Epoch 00059: val_loss did not improve from 24.95670\n",
      "9842/9842 [==============================] - 53s 5ms/step - loss: 24.8989 - mean_absolute_error: 24.8989 - val_loss: 25.2674 - val_mean_absolute_error: 25.2674\n",
      "Epoch 60/500\n",
      "9838/9842 [============================>.] - ETA: 0s - loss: 24.8631 - mean_absolute_error: 24.8631\n",
      "Epoch 00060: val_loss did not improve from 24.95670\n",
      "9842/9842 [==============================] - 54s 5ms/step - loss: 24.8627 - mean_absolute_error: 24.8627 - val_loss: 25.0113 - val_mean_absolute_error: 25.0113\n",
      "Epoch 61/500\n",
      "9842/9842 [==============================] - ETA: 0s - loss: 24.9655 - mean_absolute_error: 24.9655\n",
      "Epoch 00061: val_loss did not improve from 24.95670\n",
      "9842/9842 [==============================] - 53s 5ms/step - loss: 24.9655 - mean_absolute_error: 24.9655 - val_loss: 25.4548 - val_mean_absolute_error: 25.4548\n",
      "Epoch 62/500\n",
      "9834/9842 [============================>.] - ETA: 0s - loss: 24.8884 - mean_absolute_error: 24.8884\n",
      "Epoch 00062: val_loss did not improve from 24.95670\n",
      "9842/9842 [==============================] - 54s 5ms/step - loss: 24.8915 - mean_absolute_error: 24.8915 - val_loss: 25.5091 - val_mean_absolute_error: 25.5091\n",
      "Epoch 63/500\n",
      "9837/9842 [============================>.] - ETA: 0s - loss: 24.9118 - mean_absolute_error: 24.9118\n",
      "Epoch 00063: val_loss did not improve from 24.95670\n",
      "9842/9842 [==============================] - 54s 5ms/step - loss: 24.9095 - mean_absolute_error: 24.9095 - val_loss: 25.0806 - val_mean_absolute_error: 25.0806\n",
      "Epoch 64/500\n",
      "9838/9842 [============================>.] - ETA: 0s - loss: 24.8679 - mean_absolute_error: 24.8679\n",
      "Epoch 00064: val_loss did not improve from 24.95670\n",
      "9842/9842 [==============================] - 54s 6ms/step - loss: 24.8716 - mean_absolute_error: 24.8716 - val_loss: 25.1068 - val_mean_absolute_error: 25.1068\n",
      "Epoch 65/500\n",
      "9833/9842 [============================>.] - ETA: 0s - loss: 24.8629 - mean_absolute_error: 24.8629\n",
      "Epoch 00065: val_loss did not improve from 24.95670\n",
      "9842/9842 [==============================] - 55s 6ms/step - loss: 24.8642 - mean_absolute_error: 24.8642 - val_loss: 25.1740 - val_mean_absolute_error: 25.1740\n",
      "Epoch 66/500\n",
      "9839/9842 [============================>.] - ETA: 0s - loss: 24.8557 - mean_absolute_error: 24.8557\n",
      "Epoch 00066: val_loss did not improve from 24.95670\n",
      "9842/9842 [==============================] - 54s 5ms/step - loss: 24.8567 - mean_absolute_error: 24.8567 - val_loss: 25.1118 - val_mean_absolute_error: 25.1118\n",
      "Epoch 67/500\n",
      "9841/9842 [============================>.] - ETA: 0s - loss: 24.9173 - mean_absolute_error: 24.9173\n",
      "Epoch 00067: val_loss did not improve from 24.95670\n",
      "9842/9842 [==============================] - 54s 5ms/step - loss: 24.9173 - mean_absolute_error: 24.9173 - val_loss: 25.4678 - val_mean_absolute_error: 25.4678\n",
      "Epoch 68/500\n",
      "9840/9842 [============================>.] - ETA: 0s - loss: 24.9173 - mean_absolute_error: 24.9173\n",
      "Epoch 00068: val_loss did not improve from 24.95670\n",
      "9842/9842 [==============================] - 54s 6ms/step - loss: 24.9165 - mean_absolute_error: 24.9165 - val_loss: 25.3617 - val_mean_absolute_error: 25.3617\n",
      "Epoch 69/500\n",
      "9833/9842 [============================>.] - ETA: 0s - loss: 24.8750 - mean_absolute_error: 24.8750\n",
      "Epoch 00069: val_loss did not improve from 24.95670\n",
      "9842/9842 [==============================] - 54s 5ms/step - loss: 24.8711 - mean_absolute_error: 24.8711 - val_loss: 25.1907 - val_mean_absolute_error: 25.1907\n",
      "Epoch 70/500\n",
      "9833/9842 [============================>.] - ETA: 0s - loss: 24.8975 - mean_absolute_error: 24.8975\n",
      "Epoch 00070: val_loss did not improve from 24.95670\n",
      "9842/9842 [==============================] - 55s 6ms/step - loss: 24.8958 - mean_absolute_error: 24.8958 - val_loss: 25.3501 - val_mean_absolute_error: 25.3501\n",
      "Epoch 71/500\n",
      "9835/9842 [============================>.] - ETA: 0s - loss: 24.8507 - mean_absolute_error: 24.8507\n",
      "Epoch 00071: val_loss did not improve from 24.95670\n",
      "9842/9842 [==============================] - 54s 5ms/step - loss: 24.8514 - mean_absolute_error: 24.8514 - val_loss: 25.1191 - val_mean_absolute_error: 25.1191\n",
      "Epoch 72/500\n",
      "9839/9842 [============================>.] - ETA: 0s - loss: 25.2661 - mean_absolute_error: 25.2661\n",
      "Epoch 00072: val_loss did not improve from 24.95670\n",
      "9842/9842 [==============================] - 54s 6ms/step - loss: 25.2646 - mean_absolute_error: 25.2646 - val_loss: 26.3288 - val_mean_absolute_error: 26.3288\n",
      "Epoch 73/500\n",
      "9837/9842 [============================>.] - ETA: 0s - loss: 25.1670 - mean_absolute_error: 25.1670\n",
      "Epoch 00073: val_loss did not improve from 24.95670\n",
      "9842/9842 [==============================] - 54s 5ms/step - loss: 25.1654 - mean_absolute_error: 25.1654 - val_loss: 25.4153 - val_mean_absolute_error: 25.4153\n",
      "Epoch 74/500\n",
      "9832/9842 [============================>.] - ETA: 0s - loss: 25.3732 - mean_absolute_error: 25.3732\n",
      "Epoch 00074: val_loss did not improve from 24.95670\n",
      "9842/9842 [==============================] - 54s 6ms/step - loss: 25.3702 - mean_absolute_error: 25.3702 - val_loss: 25.7906 - val_mean_absolute_error: 25.7906\n",
      "Epoch 75/500\n",
      "9835/9842 [============================>.] - ETA: 0s - loss: 25.4203 - mean_absolute_error: 25.4203\n",
      "Epoch 00075: val_loss did not improve from 24.95670\n",
      "9842/9842 [==============================] - 55s 6ms/step - loss: 25.4197 - mean_absolute_error: 25.4197 - val_loss: 25.7774 - val_mean_absolute_error: 25.7774\n",
      "Epoch 76/500\n",
      "9839/9842 [============================>.] - ETA: 0s - loss: 25.1301 - mean_absolute_error: 25.1301\n",
      "Epoch 00076: val_loss did not improve from 24.95670\n",
      "9842/9842 [==============================] - 55s 6ms/step - loss: 25.1281 - mean_absolute_error: 25.1281 - val_loss: 25.4734 - val_mean_absolute_error: 25.4734\n",
      "Epoch 77/500\n",
      "9838/9842 [============================>.] - ETA: 0s - loss: 25.0105 - mean_absolute_error: 25.0105\n",
      "Epoch 00077: val_loss did not improve from 24.95670\n",
      "9842/9842 [==============================] - 54s 6ms/step - loss: 25.0099 - mean_absolute_error: 25.0099 - val_loss: 25.6000 - val_mean_absolute_error: 25.6000\n",
      "Epoch 78/500\n",
      "9841/9842 [============================>.] - ETA: 0s - loss: 24.9696 - mean_absolute_error: 24.9696\n",
      "Epoch 00078: val_loss did not improve from 24.95670\n",
      "9842/9842 [==============================] - 55s 6ms/step - loss: 24.9702 - mean_absolute_error: 24.9702 - val_loss: 25.6350 - val_mean_absolute_error: 25.6350\n",
      "Epoch 79/500\n",
      "9840/9842 [============================>.] - ETA: 0s - loss: 25.1624 - mean_absolute_error: 25.1624"
     ]
    }
   ],
   "source": [
    "NN_model.fit(X_train, y_train, epochs=500, batch_size=32, validation_split = 0.2, callbacks=callbacks_list)"
   ]
  }
 ],
 "metadata": {
  "kernelspec": {
   "display_name": "Python 3.8.3 64-bit ('venv': venv)",
   "language": "python",
   "name": "python3"
  },
  "language_info": {
   "codemirror_mode": {
    "name": "ipython",
    "version": 3
   },
   "file_extension": ".py",
   "mimetype": "text/x-python",
   "name": "python",
   "nbconvert_exporter": "python",
   "pygments_lexer": "ipython3",
   "version": "3.8.3"
  },
  "orig_nbformat": 4,
  "vscode": {
   "interpreter": {
    "hash": "ddbeb1eb72bb18948820b3da102f8276a25ddb69c99e5a752adee9aedd293224"
   }
  }
 },
 "nbformat": 4,
 "nbformat_minor": 2
}
